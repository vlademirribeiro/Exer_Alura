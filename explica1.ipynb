{
  "nbformat": 4,
  "nbformat_minor": 0,
  "metadata": {
    "colab": {
      "private_outputs": true,
      "provenance": [],
      "cell_execution_strategy": "setup",
      "authorship_tag": "ABX9TyNxvMIfKwFg2USv2o6akn27",
      "include_colab_link": true
    },
    "kernelspec": {
      "name": "python3",
      "display_name": "Python 3"
    },
    "language_info": {
      "name": "python"
    }
  },
  "cells": [
    {
      "cell_type": "markdown",
      "metadata": {
        "id": "view-in-github",
        "colab_type": "text"
      },
      "source": [
        "<a href=\"https://colab.research.google.com/github/vlademirribeiro/Exer_Alura/blob/main/explica1.ipynb\" target=\"_parent\"><img src=\"https://colab.research.google.com/assets/colab-badge.svg\" alt=\"Open In Colab\"/></a>"
      ]
    },
    {
      "cell_type": "code",
      "source": [
        "import numpy as np\n",
        "\n",
        "\n",
        "#np.loadtxt('/content/apples_ts.csv', delimiter= ',', usecols= np.arange(1,88,1))\n",
        "\n",
        "url = 'https://raw.githubusercontent.com/alura-cursos/numpy/dados/apples_ts.csv'\n",
        "dado = np.loadtxt(url, delimiter= ',', usecols= np.arange(1,88,1))\n",
        "dado\n",
        "\n"
      ],
      "metadata": {
        "id": "IY_bcrFT9ALl"
      },
      "execution_count": null,
      "outputs": []
    },
    {
      "cell_type": "code",
      "source": [
        "dado.size"
      ],
      "metadata": {
        "id": "ENoiDhSDSt8z"
      },
      "execution_count": null,
      "outputs": []
    },
    {
      "cell_type": "code",
      "source": [
        "dado.ndim"
      ],
      "metadata": {
        "id": "RLS4eYOISrFt"
      },
      "execution_count": null,
      "outputs": []
    },
    {
      "cell_type": "code",
      "source": [
        "dado.shape\n"
      ],
      "metadata": {
        "collapsed": true,
        "id": "pFgQUCsVTFEj"
      },
      "execution_count": null,
      "outputs": []
    },
    {
      "cell_type": "code",
      "source": [
        "dado_transposto = dado.T"
      ],
      "metadata": {
        "id": "-zag2MGWTFUS"
      },
      "execution_count": null,
      "outputs": []
    },
    {
      "cell_type": "code",
      "source": [
        "datas = dado_transposto[:,0]\n",
        "precos = dado_transposto[:,1:6]\n",
        "#precos.size\n",
        "#precos.ndim\n",
        "#precos.shape\n",
        "precos"
      ],
      "metadata": {
        "id": "0KtaTAuTTFgy"
      },
      "execution_count": null,
      "outputs": []
    },
    {
      "cell_type": "code",
      "source": [
        "import matplotlib.pyplot as plt\n"
      ],
      "metadata": {
        "id": "rrQe_jeuTFnC"
      },
      "execution_count": null,
      "outputs": []
    },
    {
      "cell_type": "code",
      "source": [
        "plt.plot(datas,precos[:,0])\n",
        "datas = np.arange(1,88,1)\n"
      ],
      "metadata": {
        "id": "obyp7OUyTFrF"
      },
      "execution_count": null,
      "outputs": []
    },
    {
      "cell_type": "code",
      "source": [
        "datas"
      ],
      "metadata": {
        "collapsed": true,
        "id": "WUcVXfYcTFx7"
      },
      "execution_count": null,
      "outputs": []
    },
    {
      "cell_type": "code",
      "source": [],
      "metadata": {
        "id": "Su3OiUlITF1Q"
      },
      "execution_count": null,
      "outputs": []
    }
  ]
}