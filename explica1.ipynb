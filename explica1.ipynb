{
  "nbformat": 4,
  "nbformat_minor": 0,
  "metadata": {
    "colab": {
      "private_outputs": true,
      "provenance": [],
      "cell_execution_strategy": "setup",
      "authorship_tag": "ABX9TyNJv4UgLplsVaknxvYWsEt5",
      "include_colab_link": true
    },
    "kernelspec": {
      "name": "python3",
      "display_name": "Python 3"
    },
    "language_info": {
      "name": "python"
    }
  },
  "cells": [
    {
      "cell_type": "markdown",
      "metadata": {
        "id": "view-in-github",
        "colab_type": "text"
      },
      "source": [
        "<a href=\"https://colab.research.google.com/github/vlademirribeiro/Exer_Alura/blob/main/explica1.ipynb\" target=\"_parent\"><img src=\"https://colab.research.google.com/assets/colab-badge.svg\" alt=\"Open In Colab\"/></a>"
      ]
    },
    {
      "cell_type": "code",
      "source": [
        "import numpy as np\n",
        "\n",
        "\n",
        "#np.loadtxt('/content/apples_ts.csv', delimiter= ',', usecols= np.arange(1,88,1))\n",
        "\n",
        "url = 'https://raw.githubusercontent.com/alura-cursos/numpy/dados/apples_ts.csv'\n",
        "dado = np.loadtxt(url, delimiter= ',', usecols= np.arange(1,88,1))\n",
        "dado\n",
        "\n"
      ],
      "metadata": {
        "id": "IY_bcrFT9ALl"
      },
      "execution_count": null,
      "outputs": []
    },
    {
      "cell_type": "code",
      "source": [
        "dado.size #identificando tamanho do array"
      ],
      "metadata": {
        "id": "ENoiDhSDSt8z"
      },
      "execution_count": null,
      "outputs": []
    },
    {
      "cell_type": "code",
      "source": [
        "dado.ndim"
      ],
      "metadata": {
        "id": "RLS4eYOISrFt"
      },
      "execution_count": null,
      "outputs": []
    },
    {
      "cell_type": "code",
      "source": [
        "dado.shape\n"
      ],
      "metadata": {
        "collapsed": true,
        "id": "pFgQUCsVTFEj"
      },
      "execution_count": null,
      "outputs": []
    },
    {
      "cell_type": "code",
      "source": [
        "dado_transposto = dado.T"
      ],
      "metadata": {
        "id": "-zag2MGWTFUS"
      },
      "execution_count": null,
      "outputs": []
    },
    {
      "cell_type": "code",
      "source": [
        "datas = dado_transposto[:,0]\n",
        "precos = dado_transposto[:,1:6]\n",
        "#precos.size\n",
        "#precos.ndim\n",
        "#precos.shape\n",
        "precos"
      ],
      "metadata": {
        "id": "0KtaTAuTTFgy",
        "collapsed": true
      },
      "execution_count": null,
      "outputs": []
    },
    {
      "cell_type": "code",
      "source": [
        "import matplotlib.pyplot as plt\n"
      ],
      "metadata": {
        "id": "rrQe_jeuTFnC"
      },
      "execution_count": null,
      "outputs": []
    },
    {
      "cell_type": "code",
      "source": [
        "plt.plot(datas,precos[:,0])\n",
        "datas = np.arange(1,88,1)\n",
        "\n"
      ],
      "metadata": {
        "id": "obyp7OUyTFrF"
      },
      "execution_count": null,
      "outputs": []
    },
    {
      "cell_type": "code",
      "source": [
        "datas"
      ],
      "metadata": {
        "id": "Tph54RnsmLAr"
      },
      "execution_count": null,
      "outputs": []
    },
    {
      "cell_type": "code",
      "source": [
        "kalinigrad"
      ],
      "metadata": {
        "id": "YyxOjHT5EANT"
      },
      "execution_count": null,
      "outputs": []
    },
    {
      "cell_type": "code",
      "source": [
        "Moscow.shape"
      ],
      "metadata": {
        "id": "NUrUITWYpAQ4"
      },
      "execution_count": null,
      "outputs": []
    },
    {
      "cell_type": "code",
      "source": [
        "\n",
        "Moscow_ano1 = Moscow[0:12]\n",
        "Moscow_ano2 = Moscow[12:24]\n",
        "Moscow_ano3 = Moscow[24:36]\n",
        "Moscow_ano4 = Moscow[36:48]\n",
        "\n",
        "Moscow_ano1\n"
      ],
      "metadata": {
        "id": "jveZGe_VJgA-"
      },
      "execution_count": null,
      "outputs": []
    },
    {
      "cell_type": "code",
      "source": [
        "plt.plot(np.arange(1,13,1),(Moscow_ano1))\n",
        "plt.plot(np.arange(1,13,1),(Moscow_ano2))\n",
        "plt.plot(np.arange(1,13,1),(Moscow_ano3))\n",
        "plt.plot(np.arange(1,13,1),(Moscow_ano4))\n",
        "plt.legend(['ano1', 'ano2', 'ano3','ano4'])"
      ],
      "metadata": {
        "id": "mfLJQKJKK98a",
        "collapsed": true
      },
      "execution_count": null,
      "outputs": []
    },
    {
      "cell_type": "code",
      "source": [
        "#comparando array iguais ou proximos\n",
        "np.array_equal(Moscow_ano3, Moscow_ano4)"
      ],
      "metadata": {
        "id": "3Jud4UlyoENC"
      },
      "execution_count": null,
      "outputs": []
    },
    {
      "cell_type": "code",
      "source": [
        "np.allclose(Moscow_ano3, Moscow_ano4, 10)"
      ],
      "metadata": {
        "id": "bySiM3zvoEZ1"
      },
      "execution_count": null,
      "outputs": []
    },
    {
      "cell_type": "code",
      "source": [
        "plt.plot(datas, kalinigrad)"
      ],
      "metadata": {
        "id": "WvhTRFw6oEjI"
      },
      "execution_count": null,
      "outputs": []
    },
    {
      "cell_type": "code",
      "source": [
        "kalinigrad"
      ],
      "metadata": {
        "id": "WfKT_ynP735h"
      },
      "execution_count": null,
      "outputs": []
    },
    {
      "cell_type": "code",
      "source": [
        "#verificando a quantidade de espaçoes em brancos no array\n",
        "sum(np.isnan(kalinigrad))"
      ],
      "metadata": {
        "id": "sApfr2zF73zk"
      },
      "execution_count": null,
      "outputs": []
    },
    {
      "cell_type": "code",
      "source": [
        "(kalinigrad [3] + kalinigrad [5])/2 #media do vetor\n"
      ],
      "metadata": {
        "id": "ZohuZExm73sh"
      },
      "execution_count": null,
      "outputs": []
    },
    {
      "cell_type": "code",
      "source": [
        "kalinigrad[4] = np.mean([kalinigrad[3], kalinigrad[5]]) #media pra add o valor no array"
      ],
      "metadata": {
        "id": "z6eAhAG773mA"
      },
      "execution_count": null,
      "outputs": []
    },
    {
      "cell_type": "code",
      "source": [
        "np.mean(Moscow)#comparando a média dos valores"
      ],
      "metadata": {
        "id": "eX-Pbv7L73bQ"
      },
      "execution_count": null,
      "outputs": []
    },
    {
      "cell_type": "code",
      "source": [
        "np.mean(kalinigrad) # funçao para comparar media numpy as np"
      ],
      "metadata": {
        "id": "E25KKeKI73Rp"
      },
      "execution_count": null,
      "outputs": []
    },
    {
      "cell_type": "code",
      "source": [],
      "metadata": {
        "id": "G7ts8p8k73FI"
      },
      "execution_count": null,
      "outputs": []
    }
  ]
}